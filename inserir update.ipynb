{
 "cells": [
  {
   "cell_type": "code",
   "execution_count": null,
   "id": "55e85b69-835f-48de-b6b2-24c2ffcf9615",
   "metadata": {},
   "outputs": [],
   "source": [
    "import re\n",
    "def inserir(bd, titulo, ano, elenco, genero):\n",
    "    procura=False\n",
    "    if \", \" in elenco:\n",
    "        elenco=elenco.split(\", \")\n",
    "\n",
    "    if \", \" in genero:\n",
    "        genero=genero.split(\", \")\n",
    "    if (titulo==\"\" or elenco==\"\" or genero==\"\" or not re.match(\"^[0-9]*$\", ano)):\n",
    "        novo_filme = []\n",
    "    for filme in bd:\n",
    "        if (ano == filme[\"year\"] or titulo == filme[\"title\"] or elenco == filme[\"cast\"] or genero == filme[\"genres\"]):\n",
    "            mensagem = []\n",
    "            procura=True\n",
    "    if procura == False:\n",
    "        novo_filme = [titulo, ano, elenco, genero]\n",
    "        idf = int(bd[len(bd)-1][\"id\"]) + 1\n",
    "        bd.append({\"title\":titulo, \"year\":int(ano), \"cast\":elenco, \"genres\":genero, \"id\":idf})\n",
    "        guardarDataset(bd,\"BDcinema\")   \n",
    "    return novo_filme\n",
    "\n"
   ]
  }
 ],
 "metadata": {
  "kernelspec": {
   "display_name": "Python 3 (ipykernel)",
   "language": "python",
   "name": "python3"
  },
  "language_info": {
   "codemirror_mode": {
    "name": "ipython",
    "version": 3
   },
   "file_extension": ".py",
   "mimetype": "text/x-python",
   "name": "python",
   "nbconvert_exporter": "python",
   "pygments_lexer": "ipython3",
   "version": "3.9.7"
  }
 },
 "nbformat": 4,
 "nbformat_minor": 5
}
