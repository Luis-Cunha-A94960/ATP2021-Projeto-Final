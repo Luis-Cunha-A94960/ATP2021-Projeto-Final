{
 "cells": [
  {
   "cell_type": "markdown",
   "id": "3c169793",
   "metadata": {},
   "source": []
  },
  {
   "cell_type": "code",
   "execution_count": 43,
   "id": "1a75e49f",
   "metadata": {},
   "outputs": [
    {
     "ename": "UnboundLocalError",
     "evalue": "local variable 'i' referenced before assignment",
     "output_type": "error",
     "traceback": [
      "\u001b[1;31m---------------------------------------------------------------------------\u001b[0m",
      "\u001b[1;31mUnboundLocalError\u001b[0m                         Traceback (most recent call last)",
      "\u001b[1;32m<ipython-input-43-ada86d280b4a>\u001b[0m in \u001b[0;36m<module>\u001b[1;34m\u001b[0m\n\u001b[0;32m     37\u001b[0m         \u001b[0mResultpesquisa\u001b[0m\u001b[1;33m=\u001b[0m\u001b[1;34m\"Não existe nenhum filme com esse nome ou ID!Para adicionar um novo filme prima: Adicionar.\"\u001b[0m\u001b[1;33m\u001b[0m\u001b[1;33m\u001b[0m\u001b[0m\n\u001b[0;32m     38\u001b[0m     \u001b[1;32mreturn\u001b[0m \u001b[0mResultpesquisa\u001b[0m\u001b[1;33m\u001b[0m\u001b[1;33m\u001b[0m\u001b[0m\n\u001b[1;32m---> 39\u001b[1;33m \u001b[0mconsultarDataset\u001b[0m \u001b[1;33m(\u001b[0m\u001b[0mcinema\u001b[0m\u001b[1;33m,\u001b[0m\u001b[1;34m\"102 Dalmatians\"\u001b[0m\u001b[1;33m)\u001b[0m\u001b[1;33m\u001b[0m\u001b[1;33m\u001b[0m\u001b[0m\n\u001b[0m",
      "\u001b[1;32m<ipython-input-43-ada86d280b4a>\u001b[0m in \u001b[0;36mconsultarDataset\u001b[1;34m(bd, id_titulo_pesquisa)\u001b[0m\n\u001b[0;32m     30\u001b[0m \u001b[1;32mdef\u001b[0m \u001b[0mconsultarDataset\u001b[0m \u001b[1;33m(\u001b[0m\u001b[0mbd\u001b[0m\u001b[1;33m,\u001b[0m \u001b[0mid_titulo_pesquisa\u001b[0m\u001b[1;33m)\u001b[0m\u001b[1;33m:\u001b[0m\u001b[1;33m\u001b[0m\u001b[1;33m\u001b[0m\u001b[0m\n\u001b[0;32m     31\u001b[0m     \u001b[0mResultpesquisa\u001b[0m\u001b[1;33m=\u001b[0m\u001b[1;36m0\u001b[0m\u001b[1;33m\u001b[0m\u001b[1;33m\u001b[0m\u001b[0m\n\u001b[1;32m---> 32\u001b[1;33m     \u001b[1;32mwhile\u001b[0m \u001b[1;33m(\u001b[0m\u001b[0mi\u001b[0m \u001b[1;33m<\u001b[0m\u001b[0mlen\u001b[0m\u001b[1;33m(\u001b[0m\u001b[0mbd\u001b[0m\u001b[1;33m)\u001b[0m \u001b[1;32mand\u001b[0m \u001b[0mResultpesquisa\u001b[0m\u001b[1;33m==\u001b[0m\u001b[1;36m0\u001b[0m\u001b[1;33m)\u001b[0m\u001b[1;33m:\u001b[0m\u001b[1;33m\u001b[0m\u001b[1;33m\u001b[0m\u001b[0m\n\u001b[0m\u001b[0;32m     33\u001b[0m         \u001b[1;32mif\u001b[0m \u001b[0mid_titulo_pesquisa\u001b[0m \u001b[1;32min\u001b[0m \u001b[0mbd\u001b[0m\u001b[1;33m[\u001b[0m\u001b[0mi\u001b[0m\u001b[1;33m]\u001b[0m\u001b[1;33m[\u001b[0m\u001b[1;34m\"title\"\u001b[0m\u001b[1;33m]\u001b[0m \u001b[1;32mor\u001b[0m \u001b[0mid_titulo_pesquisa\u001b[0m \u001b[1;32min\u001b[0m \u001b[0mbd\u001b[0m\u001b[1;33m[\u001b[0m\u001b[0mi\u001b[0m\u001b[1;33m]\u001b[0m\u001b[1;33m[\u001b[0m\u001b[1;34m\"id\"\u001b[0m\u001b[1;33m]\u001b[0m\u001b[1;33m:\u001b[0m\u001b[1;33m\u001b[0m\u001b[1;33m\u001b[0m\u001b[0m\n\u001b[0;32m     34\u001b[0m             \u001b[0mResultpesquisa\u001b[0m\u001b[1;33m=\u001b[0m\u001b[0mbd\u001b[0m\u001b[1;33m[\u001b[0m\u001b[0mi\u001b[0m\u001b[1;33m]\u001b[0m\u001b[1;33m\u001b[0m\u001b[1;33m\u001b[0m\u001b[0m\n",
      "\u001b[1;31mUnboundLocalError\u001b[0m: local variable 'i' referenced before assignment"
     ]
    }
   ],
   "source": [
    "import json\n",
    "\n",
    "def lerDataset (fnome):\n",
    "    f=open (fnome,encoding=\"UTF-8\")\n",
    "    bd=[]\n",
    "    dicjson=json.load(f)\n",
    "    for linha in dicjson:\n",
    "        bd.append(linha)\n",
    "    return (bd)\n",
    "\n",
    "cinema=[]\n",
    "cinema=lerDataset(\"cinemaATP.json\")\n",
    "#print (cinema)\n",
    "\n",
    "#gravar informacao do ficheiro\n",
    "def guardarDataset(bd,fnome):\n",
    "    f=open (fnome,\"w\",encoding=\"UTF-8\")\n",
    "    json.dump (bd,f,ensure_ascii=False,indent=4)\n",
    "guardarDataset(cinema,\"BDcinema\")\n",
    "\n",
    "#carregar informacao do ficheiro\n",
    "def carregarDataset (fnome):\n",
    "    bd=[]\n",
    "    f=open (fnome,encoding=\"UTF-8\")\n",
    "    bd=json.load (f)\n",
    "    return (bd)\n",
    "carregarDataset (\"BDcinema\")\n",
    "\n",
    "#consultar Base de dados- necessarias alteracoes\n",
    "def consultarDataset (bd, id_titulo_pesquisa):\n",
    "    Resultpesquisa=0\n",
    "    while (i <len(bd) and Resultpesquisa==0):\n",
    "        if id_titulo_pesquisa in bd[i][\"title\"] or id_titulo_pesquisa in bd[i][\"id\"]:\n",
    "            Resultpesquisa=bd[i]\n",
    "        i+=1\n",
    "    if Resultpesquisa==0:\n",
    "        Resultpesquisa=\"Não existe nenhum filme com esse nome ou ID!Para adicionar um novo filme prima: Adicionar.\"\n",
    "    return Resultpesquisa\n",
    "consultarDataset (cinema,\"102 Dalmatians\")           \n"
   ]
  },
  {
   "cell_type": "code",
   "execution_count": null,
   "id": "8dd59f49",
   "metadata": {},
   "outputs": [],
   "source": []
  }
 ],
 "metadata": {
  "kernelspec": {
   "display_name": "Python 3",
   "language": "python",
   "name": "python3"
  },
  "language_info": {
   "codemirror_mode": {
    "name": "ipython",
    "version": 3
   },
   "file_extension": ".py",
   "mimetype": "text/x-python",
   "name": "python",
   "nbconvert_exporter": "python",
   "pygments_lexer": "ipython3",
   "version": "3.8.8"
  }
 },
 "nbformat": 4,
 "nbformat_minor": 5
}
