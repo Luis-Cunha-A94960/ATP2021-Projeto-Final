{
 "cells": [
  {
   "cell_type": "markdown",
   "metadata": {},
   "source": [
    "# Projeto Final (ATP 2021)"
   ]
  },
  {
   "cell_type": "markdown",
   "metadata": {},
   "source": [
    "## Ficha técnica\n",
    "\n",
    "__identificador__: projeto2021;\n",
    "\n",
    "__título__: A minha cinemateca;\n",
    "\n",
    "__data início__: 2021-12-06;\n",
    "\n",
    "__autor__: José Carlos Ramalho, D1513;\n",
    "\n",
    "__resumo__: Neste projeto, usarás todos os conhecimentos adquiridos nas aulas para construir uma aplicação para gerir uma pequena cinemateca. "
   ]
  },
  {
   "cell_type": "markdown",
   "metadata": {},
   "source": [
    "## Requisitos\n",
    "\n",
    "A tua aplicação deverá fornecer as operações necessárias à gestão duma pequena base de dados de filmes:\n",
    "\n",
    "1. Carregar a BD dum ficheiro de texto, com formato definido por ti;\n",
    "2. Guardar a BD num ficheiro de texto, com formato definido por ti;\n",
    "3. Inserir um novo filme na base de dados;\n",
    "4. Consultar um filme na base de dados: a partir do id ou a partir do título, por exemplo \"Todos os filmes com a palavra _office_ no título;\n",
    "5. Listar todos os filmes por ordem alfabética de título;\n",
    "6. Listar todos os filmes de um determinado género;\n",
    "7. Listar todos os filmes de um determinado ator;\n",
    "8. Produzir os seguintes indicadores estatísticos:\n",
    "    * Quantos filmes há na BD?\n",
    "    * Qual a distribuição dos filmes por género?\n",
    "    * Qual a distribuição de filmes por ator (apenas o top10)?\n",
    "\n",
    "9. A aplicação deverá ter uma interface gráfica fácil de usar.\n",
    "\n"
   ]
  },
  {
   "cell_type": "markdown",
   "metadata": {},
   "source": [
    "## Dataset para arranque\n",
    "\n",
    "Para poderes povoar a tua aplicação é fornecido um dataset em JSON com os filmes americanos produzidos entre 2000 e 2018."
   ]
  },
  {
   "cell_type": "markdown",
   "metadata": {},
   "source": []
  }
 ],
 "metadata": {
  "interpreter": {
   "hash": "aee8b7b246df8f9039afb4144a1f6fd8d2ca17a180786b69acc140d282b71a49"
  },
  "kernelspec": {
   "display_name": "Python 3.9.1 64-bit",
   "name": "python3"
  },
  "language_info": {
   "codemirror_mode": {
    "name": "ipython",
    "version": 3
   },
   "file_extension": ".py",
   "mimetype": "text/x-python",
   "name": "python",
   "nbconvert_exporter": "python",
   "pygments_lexer": "ipython3",
   "version": "3.9.1"
  },
  "orig_nbformat": 4
 },
 "nbformat": 4,
 "nbformat_minor": 2
}
